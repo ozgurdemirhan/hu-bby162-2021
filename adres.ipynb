{
  "nbformat": 4,
  "nbformat_minor": 0,
  "metadata": {
    "colab": {
      "name": "adres.ipynb",
      "provenance": [],
      "mount_file_id": "1XJTIT83JVSGdlkUcKZn6M4nuF9Dy3jWI",
      "authorship_tag": "ABX9TyN2+DUkqQYbjZAzqjY8U8rA",
      "include_colab_link": true
    },
    "kernelspec": {
      "name": "python3",
      "display_name": "Python 3"
    },
    "language_info": {
      "name": "python"
    }
  },
  "cells": [
    {
      "cell_type": "markdown",
      "metadata": {
        "id": "view-in-github",
        "colab_type": "text"
      },
      "source": [
        "<a href=\"https://colab.research.google.com/github/ozgurdemirhan/hu-bby162-2021/blob/main/adres.ipynb\" target=\"_parent\"><img src=\"https://colab.research.google.com/assets/colab-badge.svg\" alt=\"Open In Colab\"/></a>"
      ]
    },
    {
      "cell_type": "code",
      "metadata": {
        "colab": {
          "base_uri": "https://localhost:8080/"
        },
        "id": "joDjDGc-M90f",
        "outputId": "56f31c55-0da2-4e33-8d4b-afd6dba4dba2"
      },
      "source": [
        "adres = \"/content/drive/MyDrive/adres.txt\"\n",
        "\n",
        "f = open(adres, \"a\")\n",
        "\n",
        "BirinciBilgi = input(\"Ad: \")\n",
        "İkinciBilgi = input(\"Soyadı: \")\n",
        "ÜçüncüBilgi = input(\"e-Posta: \")\n",
        "\n",
        "\n",
        "f.write(BirinciBilgi+ \" \" + İkinciBilgi+ \" \" + ÜçüncüBilgi+ \" \" + \"\\n\")\n",
        "\n",
        "f.close()\n",
        "\n",
        "f = open(adres, \"r\")\n",
        "for line in f.readlines():\n",
        "    print(line)\n",
        "f.close()\n",
        "\n"
      ],
      "execution_count": 3,
      "outputs": [
        {
          "output_type": "stream",
          "text": [
            "Ad: Utku Özgür\n",
            "Soyadı: Demirhan\n",
            "e-Posta: ozgurozgur_1999@hotmail.com\n",
            "Utku Özgür Demirhan ozgurozgur_1999@hotmail.com \n",
            "\n",
            "Utku Özgür Demirhan ozgurozgur_1999@hotmail.com \n",
            "\n"
          ],
          "name": "stdout"
        }
      ]
    }
  ]
}