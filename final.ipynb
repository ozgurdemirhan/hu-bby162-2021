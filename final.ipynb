{
  "nbformat": 4,
  "nbformat_minor": 0,
  "metadata": {
    "colab": {
      "name": "final.ipynb",
      "provenance": [],
      "mount_file_id": "1J8WpO0Wlozh9PT_LnfgJaWBGQfy534BK",
      "authorship_tag": "ABX9TyM3Q9gniVNmDjAWlx4XqkNW",
      "include_colab_link": true
    },
    "kernelspec": {
      "name": "python3",
      "display_name": "Python 3"
    },
    "language_info": {
      "name": "python"
    }
  },
  "cells": [
    {
      "cell_type": "markdown",
      "metadata": {
        "id": "view-in-github",
        "colab_type": "text"
      },
      "source": [
        "<a href=\"https://colab.research.google.com/github/ozgurdemirhan/hu-bby162-2021/blob/main/final.ipynb\" target=\"_parent\"><img src=\"https://colab.research.google.com/assets/colab-badge.svg\" alt=\"Open In Colab\"/></a>"
      ]
    },
    {
      "cell_type": "code",
      "metadata": {
        "colab": {
          "base_uri": "https://localhost:8080/"
        },
        "id": "EHlzxHb73Ycb",
        "outputId": "f0dbcd50-f601-4601-96cc-66993fe6eacd"
      },
      "source": [
        "dosya =  \"/content/drive/MyDrive/final.txt\"\n",
        "def eserListesi():\n",
        "  dosya =  \"/content/drive/MyDrive/final.txt\"\n",
        "  f = open(dosya, \"r\") \n",
        "\n",
        "  for line in f.readlines():\n",
        "      print(line)\n",
        "\n",
        "  f.close()\n",
        "\n",
        "\n",
        "\n",
        "def eserKaydet():\n",
        "  ad = input(\" Eser adı giriniz: \")\n",
        "  yazar = input(\" Yazar adı giriniz: \")\n",
        "  yayın = input(\" Yayınevi giriniz: \")\n",
        "  basım = input(\" Basım tarihi giriniz: \")\n",
        "  Isbn = input(\" ISBN numarası giriniz: \")\n",
        "\n",
        "  dosya = \"/content/drive/MyDrive/final.txt\"\n",
        "  f = open(dosya, 'a') \n",
        "  f.write(ad+ \",\" +yazar+ \".\" +yayın+ \",\" +basım+ \",\" +Isbn+ \"\\n\")\n",
        "  f.close()\n",
        "\n",
        "  \n",
        "\n",
        "def menu():\n",
        "  print(\" *** Kütüphane Bilgi Sistemi ***\")\n",
        "  while True:\n",
        "    print(\" 1- Çıkış İşlemi\")\n",
        "    print(\" 2- Mevcut Eserler\")\n",
        "    print(\" 3- Yeni Eser Kaydet\")\n",
        "    islem = input(\" Yapmak istediğiniz işlemi seçiniz (1/3): \")\n",
        "    if islem == \"1\":\n",
        "      print(\" Çıkış yapıldı\")\n",
        "      break\n",
        "    elif islem == \"2\":\n",
        "      eserListesi()\n",
        "    elif islem == \"3\":\n",
        "      eserKaydet()\n",
        "      \n",
        "menu()\n"
      ],
      "execution_count": 7,
      "outputs": [
        {
          "output_type": "stream",
          "text": [
            " *** Kütüphane Bilgi Sistemi ***\n",
            " 1- Çıkış İşlemi.\n",
            " 2- Mevcut Eserler\n",
            " 3- Yeni Eser Kaydet\n",
            " Yapmak istediğiniz işlemi seçiniz (1/3): 2\n",
            "Memleketimden İnsan Manzaraları, Nazım Hikmet, Adam Yayınları, 1987, 9754180350\n",
            "\n",
            "İnce Memed, Yaşar Kemal, Adam Yayınları, 1955, 9754183287\n",
            "\n",
            "Anna Karenina, Tolstoy, Meb Yayınları, 1991, 9751100844\n",
            "\n",
            "Rahmet Yolları Kesti, Kemal Tahir, Adam Yayınları, 1957, 9754181683\n",
            "\n",
            "İhtilali Nasıl Yaptık, Aziz Nesin, Tekin Yayınevi, 1965, 9645582119 \n",
            " 1- Çıkış İşlemi.\n",
            " 2- Mevcut Eserler\n",
            " 3- Yeni Eser Kaydet\n",
            " Yapmak istediğiniz işlemi seçiniz (1/3): 1\n",
            " Çıkış yapıldı\n"
          ],
          "name": "stdout"
        }
      ]
    }
  ]
}